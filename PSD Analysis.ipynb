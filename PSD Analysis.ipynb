{
 "cells": [
  {
   "attachments": {},
   "cell_type": "markdown",
   "metadata": {},
   "source": [
    "# Analyse d’images PSD\n",
    "But : extraire et d’analyser les maxima locaux (pics) dans une image au format `.npy`"
   ]
  },
  {
   "cell_type": "code",
   "execution_count": 117,
   "metadata": {},
   "outputs": [],
   "source": [
    "import numpy as np\n",
    "import matplotlib.pyplot as plt\n",
    "from scipy.ndimage import gaussian_filter\n",
    "from skimage.feature import peak_local_max\n",
    "from scipy.optimize import curve_fit\n",
    "from matplotlib.patches import Circle"
   ]
  },
  {
   "attachments": {},
   "cell_type": "markdown",
   "metadata": {},
   "source": [
    "## Définition des paramètres de base\n",
    "- **RELATIVE_FILENAME** : nom du fichier `.npy` à charger.  \n",
    "- **PHYS_WIDTH**, **PHYS_HEIGHT** : dimensions physiques de l’image (en unités de longueur), utilisées pour convertir les positions de pixels en distances réelles.\n"
   ]
  },
  {
   "cell_type": "code",
   "execution_count": 118,
   "metadata": {},
   "outputs": [],
   "source": [
    "RELATIVE_FILENAME = r\"C:\\Users\\yanns\\Documents\\GitHub\\MNP24_Saugy_Yann\\SSP\\AtomicScaleZ36FFT.npy\"\n",
    "PHYS_WIDTH = 201.4\n",
    "PHYS_HEIGHT = 201.4"
   ]
  },
  {
   "attachments": {},
   "cell_type": "markdown",
   "metadata": {},
   "source": [
    "## Paramètres d’analyse\n",
    "Ces variables contrôlent la détection des pics :\n",
    "- `rmin`, `rmax` : intervalle de rayons pour restreindre la recherche autour du centre.  \n",
    "- `threshold_rel`, `threshold_abs` : seuils relatif et absolu pour filtrer les maxima locaux.  \n",
    "- `min_distance` : distance minimale entre deux pics détectés.  \n",
    "- `window` : taille de la fenêtre considérée pour l’ajustement gaussien.\n"
   ]
  },
  {
   "cell_type": "code",
   "execution_count": 119,
   "metadata": {},
   "outputs": [],
   "source": [
    "rmin = 25.0\n",
    "threshold_rel = 0.2\n",
    "threshold_abs = 0.0\n",
    "min_distance = 5\n",
    "window = 3"
   ]
  },
  {
   "attachments": {},
   "cell_type": "markdown",
   "metadata": {},
   "source": [
    "## Chargement et lissage de l’image\n",
    "1. On charge les données brutes depuis le fichier `.npy`.  \n",
    "2. On applique un filtre gaussien (`gaussian_filter`) pour atténuer le bruit haute fréquence avant détection des pics.\n"
   ]
  },
  {
   "cell_type": "code",
   "execution_count": 120,
   "metadata": {},
   "outputs": [],
   "source": [
    "data = gaussian_filter(np.load(RELATIVE_FILENAME), sigma=0)\n",
    "center = np.array(data.shape[::-1]) // 2\n",
    "scale_x = PHYS_WIDTH / data.shape[1]\n",
    "scale_y = PHYS_HEIGHT / data.shape[0]"
   ]
  },
  {
   "attachments": {},
   "cell_type": "markdown",
   "metadata": {},
   "source": [
    "## Détection des pics\n",
    "Définition de la fonction `detect_peaks` qui :\n",
    "- Localise les maxima locaux via `peak_local_max`.  \n",
    "- Filtre ces maxima selon les conditions sur le rayon et les seuils.  \n",
    "- Renvoie la liste des coordonnées candidates pour l’ajustement ultérieur.\n"
   ]
  },
  {
   "cell_type": "code",
   "execution_count": 121,
   "metadata": {},
   "outputs": [],
   "source": [
    "# Détection des pics\n",
    "def detect_peaks(data, center, r_min, threshold_rel, threshold_abs, min_distance):\n",
    "    y_idx, x_idx = np.indices(data.shape)\n",
    "    r = np.sqrt((x_idx - center[0])**2 + (y_idx - center[1])**2)\n",
    "    masked = np.where(r >= r_min, data, 0)\n",
    "    return peak_local_max(masked, min_distance=min_distance,\n",
    "                          threshold_rel=threshold_rel, threshold_abs=threshold_abs)"
   ]
  },
  {
   "attachments": {},
   "cell_type": "markdown",
   "metadata": {},
   "source": [
    "## Localisation initiale des pics\n",
    "- On calcule le centre approximatif de l’image (`center`).  \n",
    "- On appelle `detect_peaks` pour obtenir les coordonnées des maxima locaux à analyser.\n"
   ]
  },
  {
   "cell_type": "code",
   "execution_count": 122,
   "metadata": {},
   "outputs": [
    {
     "name": "stdout",
     "output_type": "stream",
     "text": [
      "Pics détectés : 6\n"
     ]
    }
   ],
   "source": [
    "coords = detect_peaks(data, center, rmin, threshold_rel, threshold_abs, min_distance)\n",
    "print(f\"Pics détectés : {len(coords)}\")"
   ]
  },
  {
   "attachments": {},
   "cell_type": "markdown",
   "metadata": {},
   "source": [
    "## Modèle gaussien pour l’ajustement\n",
    "On définit une fonction gaussienne 2D (`gaussian`) :\n",
    "$$\n",
    "G(x,y) = A \\exp\\!\\Bigl(-\\tfrac{(x-x_0)^2}{2\\sigma_x^2} - \\tfrac{(y-y_0)^2}{2\\sigma_y^2}\\Bigr) + B\n",
    "$$\n"
   ]
  },
  {
   "cell_type": "code",
   "execution_count": 123,
   "metadata": {},
   "outputs": [],
   "source": [
    "# Fonction gaussienne pour fitting\n",
    "def gaussian_2d(coords, amplitude, x0, y0, sigma_x, sigma_y, theta, offset):\n",
    "    x, y = coords\n",
    "    a = (np.cos(theta)**2)/(2*sigma_x**2) + (np.sin(theta)**2)/(2*sigma_y**2)\n",
    "    b = -(np.sin(2*theta))/(4*sigma_x**2) + (np.sin(2*theta))/(4*sigma_y**2)\n",
    "    c = (np.sin(theta)**2)/(2*sigma_x**2) + (np.cos(theta)**2)/(2*sigma_y**2)\n",
    "    return (offset + amplitude * np.exp(-(a*(x - x0)**2 + 2*b*(x - x0)*(y - y0) + c*(y - y0)**2))).ravel()"
   ]
  },
  {
   "attachments": {},
   "cell_type": "markdown",
   "metadata": {},
   "source": [
    "## Ajustement gaussien d’un pic individuel\n",
    "Pour chaque pic détecté :\n",
    "1. On extrait une petite fenêtre centrée sur le pic.  \n",
    "2. On lance `curve_fit` pour trouver les paramètres optimaux : position (`x0`,`y0`), écarts-types (`σx`,`σy`), amplitude `A`.  \n",
    "3. On stocke les résultats et leurs incertitudes pour chaque pic."
   ]
  },
  {
   "cell_type": "code",
   "execution_count": 124,
   "metadata": {},
   "outputs": [],
   "source": [
    "# Ajustement d'un pic individuel\n",
    "def fit_peak(data, coord, window_size):\n",
    "    y0, x0 = coord\n",
    "    slice_x = slice(max(int(x0 - window_size), 0), min(int(x0 + window_size), data.shape[1]))\n",
    "    slice_y = slice(max(int(y0 - window_size), 0), min(int(y0 + window_size), data.shape[0]))\n",
    "    sub = data[slice_y, slice_x]\n",
    "\n",
    "    if sub.size == 0:\n",
    "        return None\n",
    "\n",
    "    y_idx, x_idx = np.indices(sub.shape)\n",
    "    mask = np.sqrt((x_idx - sub.shape[1]/2)**2 + (y_idx - sub.shape[0]/2)**2) <= window_size\n",
    "\n",
    "    x_flat, y_flat, z_flat = x_idx[mask].ravel(), y_idx[mask].ravel(), sub[mask].ravel()\n",
    "\n",
    "    init_params = (np.ptp(z_flat), sub.shape[1]/2, sub.shape[0]/2, 2, 2, 0, np.min(z_flat))\n",
    "\n",
    "    try:\n",
    "        popt, pcov = curve_fit(gaussian_2d, (x_flat, y_flat), z_flat, p0=init_params)\n",
    "        x_fit, y_fit = popt[1] + slice_x.start, popt[2] + slice_y.start\n",
    "        err_x = np.sqrt(pcov[1, 1]) if np.isfinite(pcov[1, 1]) else np.nan\n",
    "        err_y = np.sqrt(pcov[2, 2]) if np.isfinite(pcov[2, 2]) else np.nan\n",
    "        return x_fit, y_fit, err_x, err_y\n",
    "    except Exception as e:\n",
    "        print(f\"Fit échoué pour pic {coord}: {e}\")\n",
    "        return None"
   ]
  },
  {
   "attachments": {},
   "cell_type": "markdown",
   "metadata": {},
   "source": [
    "## Visualisation des pics ajustés\n",
    "- Affichage de l’image lissée en fond.  \n",
    "- Superposition des cercles sur chaque pic ajusté (rayon fonction de l’écart-type).  \n",
    "- Permet de vérifier qualitativement la qualité de l’ajustement.\n"
   ]
  },
  {
   "cell_type": "code",
   "execution_count": 125,
   "metadata": {},
   "outputs": [
    {
     "data": {
      "image/png": "[encoded data removed]",
      "text/plain": [
       "<Figure size 640x480 with 1 Axes>"
      ]
     },
     "metadata": {},
     "output_type": "display_data"
    },
    {
     "name": "stdout",
     "output_type": "stream",
     "text": [
      "# dx_phys, dy_phys, err_x_phys, err_y_phys\n",
      "-21.397, -27.122, nan, nan\n",
      "21.397, 27.122, nan, nan\n",
      "11.498, -32.366, nan, nan\n",
      "-11.498, 32.366, nan, nan\n",
      "32.861, -5.268, nan, nan\n",
      "-32.861, 5.268, nan, nan\n"
     ]
    },
    {
     "name": "stderr",
     "output_type": "stream",
     "text": [
      "C:\\Users\\yanns\\AppData\\Local\\Temp\\ipykernel_3816\\583004572.py:19: OptimizeWarning: Covariance of the parameters could not be estimated\n",
      "  popt, pcov = curve_fit(gaussian_2d, (x_flat, y_flat), z_flat, p0=init_params)\n"
     ]
    }
   ],
   "source": [
    "# Visualisation\n",
    "fig, ax = plt.subplots()\n",
    "ax.imshow(data, origin='lower')\n",
    "for y, x in coords:\n",
    "    ax.add_patch(Circle((x, y), window, edgecolor='r', facecolor='none'))\n",
    "ax.set_title(\"PSD avec pics détectés\")\n",
    "plt.show()\n",
    "\n",
    "print(\"# dx_phys, dy_phys, err_x_phys, err_y_phys\")\n",
    "for coord in coords:\n",
    "    result = fit_peak(data, coord, window)\n",
    "    if result:\n",
    "        x_px, y_px, err_x, err_y = result\n",
    "        dx_phys = (x_px - center[0]) * scale_x\n",
    "        dy_phys = (y_px - center[1]) * scale_y\n",
    "        err_x_phys = err_x * scale_x\n",
    "        err_y_phys = err_y * scale_y\n",
    "        print(f\"{dx_phys:.3f}, {dy_phys:.3f}, {err_x_phys:.3f}, {err_y_phys:.3f}\")"
   ]
  },
  {
   "attachments": {},
   "cell_type": "markdown",
   "metadata": {},
   "source": [
    "## Conversion en unités réelles et propagation d’incertitude  \n",
    "La fonction `compute_real_with_errors` réalise deux opérations clés :  \n",
    "1. **Conversion des coordonnées**  \n",
    "   - On transforme les coordonnées de pic détectées en pixels (`x0, y0`) en positions physiques (`X, Y`) grâce aux facteurs d’échelle `scale_x` et `scale_y` (par exemple : `X = x0 * scale_x`).  \n",
    "2. **Propagation d’incertitude par la matrice Jacobienne**  \n",
    "   - Pour conserver l’incertitude associée à chaque position, on applique la **propagation d’erreur linéaire**.  \n",
    "\n",
    "\n",
    "\n"
   ]
  },
  {
   "cell_type": "code",
   "execution_count": 126,
   "metadata": {},
   "outputs": [],
   "source": [
    "def compute_real_with_errors(b1_vals, b1_errs, b2_vals, b2_errs):\n",
    "    \"\"\"Compute real‐space a1,a2 (and σ’s) from reciprocal b1,b2 (and σ’s).\"\"\"\n",
    "    b1_vals = np.asarray(b1_vals, float)\n",
    "    b2_vals = np.asarray(b2_vals, float)\n",
    "    errs    = np.hstack([b1_errs, b2_errs]).astype(float) \n",
    "    R = np.array([[0, -1], [1, 0]], float)\n",
    "\n",
    "    def _compute(b1, b2):\n",
    "        B = b1.dot(R.dot(b2))\n",
    "        a1 = 2*np.pi * R.dot(b2) / B\n",
    "        a2 = -2*np.pi * R.dot(b1) / B\n",
    "        return a1, a2\n",
    "\n",
    "    # central values\n",
    "    a1_c, a2_c = _compute(b1_vals, b2_vals)\n",
    "\n",
    "    # build Jacobian via central differences\n",
    "    deriv = np.zeros((4,4), float)  # [da1x/di, da1y/di, da2x/di, da2y/di]\n",
    "    for i in range(4):\n",
    "        dv = np.zeros(4); dv[i] = errs[i]\n",
    "        a1_p, a2_p = _compute(*(np.split(np.hstack([b1_vals, b2_vals]) + dv, 2)))\n",
    "        a1_m, a2_m = _compute(*(np.split(np.hstack([b1_vals, b2_vals]) - dv, 2)))\n",
    "        deriv[0,i] = (a1_p[0] - a1_m[0]) / (2*errs[i])\n",
    "        deriv[1,i] = (a1_p[1] - a1_m[1]) / (2*errs[i])\n",
    "        deriv[2,i] = (a2_p[0] - a2_m[0]) / (2*errs[i])\n",
    "        deriv[3,i] = (a2_p[1] - a2_m[1]) / (2*errs[i])\n",
    "\n",
    "    variances = np.sum((deriv * errs)**2, axis=1)\n",
    "    stds = np.sqrt(variances)\n",
    "\n",
    "    a1_errs = stds[:2]\n",
    "    a2_errs = stds[2:]\n",
    "    return (a1_c, a1_errs), (a2_c, a2_errs)"
   ]
  },
  {
   "attachments": {},
   "cell_type": "markdown",
   "metadata": {},
   "source": [
    "## Calcul d’angle entre deux vecteurs avec incertitudes\n",
    "Fonction `angle_between_with_errors` :\n",
    "- Calcule l’angle φ entre deux vecteurs `a1` et `a2`.  \n",
    "- Utilise la formule standard de l’angle avec produit scalaire, et y ajoute l’estimation de l’incertitude σφ par propagation.\n"
   ]
  },
  {
   "cell_type": "code",
   "execution_count": 127,
   "metadata": {},
   "outputs": [],
   "source": [
    "def angle_between_with_errors(a1_vals, a1_errs, a2_vals, a2_errs, degrees=False):\n",
    "    \"\"\"Compute φ=∠(a1,a2) ± σφ by central differences.\"\"\"\n",
    "    a1_vals = np.asarray(a1_vals, float)\n",
    "    a2_vals = np.asarray(a2_vals, float)\n",
    "    errs    = np.hstack([a1_errs, a2_errs]).astype(float)\n",
    "\n",
    "    def _angle(a1, a2):\n",
    "        c = np.dot(a1, a2) / (np.linalg.norm(a1)*np.linalg.norm(a2))\n",
    "        return np.arccos(np.clip(c, -1, 1))\n",
    "\n",
    "    phi0 = _angle(a1_vals, a2_vals)\n",
    "    deriv = np.zeros(4)\n",
    "    for i in range(4):\n",
    "        dv = np.zeros(4); dv[i] = errs[i]\n",
    "        a1_p, a2_p = a1_vals + dv[:2], a2_vals + dv[2:]\n",
    "        a1_m, a2_m = a1_vals - dv[:2], a2_vals - dv[2:]\n",
    "        deriv[i] = (_angle(a1_p,a2_p) - _angle(a1_m,a2_m)) / (2*errs[i])\n",
    "\n",
    "    sigma_phi = np.sqrt(np.sum((deriv*errs)**2))\n",
    "    if degrees:\n",
    "        return np.degrees(phi0), np.degrees(sigma_phi)\n",
    "    return phi0, sigma_phi\n"
   ]
  },
  {
   "attachments": {},
   "cell_type": "markdown",
   "metadata": {},
   "source": [
    "## Calcul de la norme d’un vecteur avec incertitude\n",
    "Fonction `norm_with_error` :\n",
    "- Calcule la norme (longueur) d’un vecteur à partir de ses composantes et de leurs erreurs.  \n",
    "- Applique la propagation d’erreur pour obtenir l’incertitude associée à la norme.\n"
   ]
  },
  {
   "cell_type": "code",
   "execution_count": 128,
   "metadata": {},
   "outputs": [],
   "source": [
    "def norm_with_error(v_vals, v_errs):\n",
    "    \"\"\"Compute ∥v∥ ± σ by analytic propagation.\"\"\"\n",
    "    x, y = v_vals\n",
    "    sx, sy = v_errs\n",
    "    r = np.hypot(x, y)\n",
    "    if r == 0:\n",
    "        return 0.0, 0.0\n",
    "    drdx, drdy = x/r, y/r\n",
    "    sigma_r = np.sqrt((drdx*sx)**2 + (drdy*sy)**2)\n",
    "    return r, sigma_r"
   ]
  },
  {
   "attachments": {},
   "cell_type": "markdown",
   "metadata": {},
   "source": [
    "## Résultats finaux\n",
    "1. Calcul des vecteurs de base `a1` et `a2` et de leurs incertitudes.  \n",
    "2. Affichage du résultat :\n",
    "   - Coordonnées des vecteurs  \n",
    "   - Angle entre `a1` et `a2`  \n",
    "   - Normes ∥a₁∥ et ∥a₂∥ avec incertitudes\n"
   ]
  },
  {
   "cell_type": "code",
   "execution_count": 129,
   "metadata": {},
   "outputs": [
    {
     "name": "stdout",
     "output_type": "stream",
     "text": [
      "a1 = [0.22440045 0.08490765] ± [0.00663145 0.00381709]\n",
      "a2 = [ 0.18801035 -0.1455604 ] ± [0.00657145 0.00378263]\n",
      "Angle = 58.47° ± 1.58°\n",
      "∥a₁∥ = 0.240 ± 0.006\n",
      "∥a₂∥ = 0.238 ± 0.006\n"
     ]
    }
   ],
   "source": [
    "#vectors obtained\n",
    "\n",
    "b1_vals, b1_errs = (18.808, 24.293), (0.593, 0.593)\n",
    "b2_vals, b2_errs = (10.971, -28.995), (0.593, 0.593)\n",
    "\n",
    "# Calcul des vecteurs en espace réel avec incertitudes\n",
    "(a1_vals, a1_errs), (a2_vals, a2_errs) = compute_real_with_errors(\n",
    "    b1_vals, b1_errs, b2_vals, b2_errs\n",
    ")\n",
    "\n",
    "# Affichage clair des résultats :\n",
    "print(f\"a1 = {a1_vals} ± {a1_errs}\")\n",
    "print(f\"a2 = {a2_vals} ± {a2_errs}\")\n",
    "\n",
    "# Angle entre a1 et a2 avec incertitude\n",
    "phi, sigma_phi = angle_between_with_errors(\n",
    "    a1_vals, a1_errs, a2_vals, a2_errs, degrees=True\n",
    ")\n",
    "print(f\"Angle = {phi:.2f}° ± {sigma_phi:.2f}°\")\n",
    "\n",
    "# Normes des vecteurs avec incertitudes\n",
    "r1, sigma_r1 = norm_with_error(a1_vals, a1_errs)\n",
    "r2, sigma_r2 = norm_with_error(a2_vals, a2_errs)\n",
    "print(f\"∥a₁∥ = {r1:.3f} ± {sigma_r1:.3f}\")\n",
    "print(f\"∥a₂∥ = {r2:.3f} ± {sigma_r2:.3f}\")"
   ]
  }
 ],
 "metadata": {
  "kernelspec": {
   "display_name": "Python 3",
   "language": "python",
   "name": "python3"
  },
  "language_info": {
   "codemirror_mode": {
    "name": "ipython",
    "version": 3
   },
   "file_extension": ".py",
   "mimetype": "text/x-python",
   "name": "python",
   "nbconvert_exporter": "python",
   "pygments_lexer": "ipython3",
   "version": "3.11.5"
  },
  "orig_nbformat": 4,
  "vscode": {
   "interpreter": {
    "hash": "f20e18fd9aef6f7888af36ae0c53387d81d066b6f767cd91a6d5f3dc907224f4"
   }
  }
 },
 "nbformat": 4,
 "nbformat_minor": 2
}
